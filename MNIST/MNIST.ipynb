{
 "cells": [
  {
   "cell_type": "markdown",
   "metadata": {},
   "source": [
    "## MNIST Dataset practice"
   ]
  },
  {
   "cell_type": "markdown",
   "metadata": {},
   "source": [
    "### Import relevant packages"
   ]
  },
  {
   "cell_type": "code",
   "execution_count": 1,
   "metadata": {},
   "outputs": [],
   "source": [
    "import numpy as np\n",
    "import tensorflow as tf \n",
    "import tensorflow_datasets as tfds"
   ]
  },
  {
   "cell_type": "markdown",
   "metadata": {},
   "source": [
    "### Data"
   ]
  },
  {
   "cell_type": "code",
   "execution_count": 2,
   "metadata": {},
   "outputs": [],
   "source": [
    "#datasets will be stored in C:\\Users\\*USERNAME*\\tensorflow_datasets\\...\n",
    "mnist_dataset, mnist_info= tfds.load(name='mnist',with_info=True, as_supervised=True)\n",
    "#as_supervised=True, loads the data in a 2-tuple structure [input,target]\n",
    "#as_supervised=False,returns a dictionary\n",
    "#with_info=True, provides a tuple containing info about the version, features, #samples of the dataset\n",
    "#split data into train and test\n",
    "mnist_train, mnist_test= mnist_dataset['train'], mnist_dataset['test']\n",
    "#validation is manually split into 10% of train set\n",
    "num_validation_samples=0.1*mnist_info.splits['train'].num_examples\n",
    "#tf.cast(x,dtype)- cast converts variable into given data type\n",
    "num_validation_samples=tf.cast(num_validation_samples,tf.int64)\n",
    "num_test_samples=mnist_info.splits['test'].num_examples\n",
    "num_test_samples=tf.cast(num_test_samples,tf.int64)\n",
    "\n",
    "#scale the image grayscale level [0,255] to between [0,1], simply transforming the values\n",
    "#define a function called: scale, that will take an MNIST image and its label\n",
    "def scale(image,label):\n",
    "    image=tf.cast(image,tf.float32)\n",
    "    image /=255. #'.' represents we want result in float\n",
    "    return image, label\n",
    "#scales the whole train dataset and stores it in the new variable\n",
    "#dataset.map(*function*)- applies a custom trasnformation to a given dataset. Takes as input as function\n",
    "#that determines the transformation\n",
    "scaled_train_and_validation_data=mnist_train.map(scale)\n",
    "\n",
    "# we scale and batch the test data,so it has the same magnitude as the train and validation\n",
    "# there would be a single batch, equal to the size of the test data\n",
    "#no need to shuffle test data as its not used for training purpose, no worry about overfitting\n",
    "test_data = mnist_test.map(scale)\n",
    "\n",
    "#splitting no of samples to shuffle at a time\n",
    "#BUFFER_SIZE= 1, no shuffling\n",
    "#BUFFER_SIZE>=num_of_samples,shuffling is uniform\n",
    "BUFFER_SIZE=10000 \n",
    "\n",
    "shuffled_train_and_validation_data=scaled_train_and_validation_data.shuffle(BUFFER_SIZE)\n",
    "\n",
    "#extracting the train and validation\n",
    "#create a batch with a batch size equal to the total number of validation samples\n",
    "validation_data= shuffled_train_and_validation_data.take(num_validation_samples)\n",
    "\n",
    "#the train_data is everything else, so we skip as many samples as there are in the validation dataset\n",
    "train_data = shuffled_train_and_validation_data.skip(num_validation_samples)\n",
    "\n",
    "#using mini-batch gradient descent\n",
    "#BATCH_SIZE=1, Stochastic gradient descent (SGD)\n",
    "#BATCH_SIZE=# of samples, (single batch) Gradient Descent\n",
    "#1<BATCH_SIZE<# of samples= mini-batch GD\n",
    "BATCH_SIZE=150\n",
    "\n",
    "#dataset.batch(batch_size) - a method that combines the consecutive elemens of a dataset into batches\n",
    "#how many samples the tensor should take in each batch\n",
    "train_data= train_data.batch(BATCH_SIZE)\n",
    "\n",
    "#when batching we find avg loss but in case of validation and testing we want exact values\n",
    "#batch the validation data\n",
    "validation_data = validation_data.batch(num_validation_samples)\n",
    "\n",
    "# batch the test data\n",
    "test_data = test_data.batch(num_test_samples)\n",
    "\n",
    "\n",
    "# takes next batch (it is the only batch)\n",
    "# because as_supervized=True, we've got a 2-tuple structure\n",
    "#iter() makes the validation_data iterable(iterate one element at a time), but wont load any data\n",
    "#next() loads the next batch,i.e loads the next element of iterable object\n",
    "validation_inputs, validation_targets = next(iter(validation_data))"
   ]
  },
  {
   "cell_type": "markdown",
   "metadata": {},
   "source": [
    "### Model"
   ]
  },
  {
   "cell_type": "markdown",
   "metadata": {},
   "source": [
    "### Outline the model"
   ]
  },
  {
   "cell_type": "code",
   "execution_count": 3,
   "metadata": {},
   "outputs": [],
   "source": [
    "input_size = 784\n",
    "output_size = 10\n",
    "# Use same hidden layer size for both hidden layers. Not a necessity.\n",
    "hidden_layer_size = 50\n",
    "    \n",
    "#laying down the model- stacking the layers\n",
    "model = tf.keras.Sequential([\n",
    "    \n",
    "    # the first layer (the input layer) each observation is 28x28x1 pixels, therefore it is a tensor of rank 3\n",
    "    #'Flatten' that simply takes our 28x28x1 tensor and orders it into a (None,) \n",
    "    # or (28x28x1,) = (784,) vector\n",
    "    # this allows us to actually create a feed forward neural network\n",
    "    # tf.keras.layers.Flatten(original shape)-trasnforms(flattens) tensor into a vector\n",
    "    tf.keras.layers.Flatten(input_shape=(28, 28, 1)), # input layer\n",
    "    \n",
    "    # tf.keras.layers.Dense(output size) is implementing: output = activation(dot(input, weight) + bias)\n",
    "    tf.keras.layers.Dense(hidden_layer_size, activation='relu'), # 1st hidden layer\n",
    "    tf.keras.layers.Dense(hidden_layer_size, activation='relu'), # 2nd hidden layer\n",
    "    \n",
    "    # the final layer is activation is with softmax, gives a probability of output\n",
    "    tf.keras.layers.Dense(output_size, activation='softmax') # output layer\n",
    "])"
   ]
  },
  {
   "cell_type": "code",
   "execution_count": 4,
   "metadata": {},
   "outputs": [],
   "source": [
    "# hidden_layer_size = 5000\n",
    "# batch_size = 150\n",
    "# NUM_EPOCHS = 10"
   ]
  },
  {
   "cell_type": "markdown",
   "metadata": {},
   "source": [
    "### Optimizer and loss function"
   ]
  },
  {
   "cell_type": "code",
   "execution_count": 5,
   "metadata": {},
   "outputs": [],
   "source": [
    "#model.compile(optimizer,loss,metrics)- configures the model for training\n",
    "#Use this crossentropy loss function when there are two or more label classes. \n",
    "#categorical_crossentropy- expects that you've one-hot encoded the targets. Here we didnt so we use \n",
    "#sparse_categorical_crossentropy- which applies one hot encoding\n",
    "#we can also includ metrics we want to obtain, here it's accuracy\n",
    "\n",
    "#custom_optimizer = tf.keras.optimizers.Adam(learning_rate=0.0001)\n",
    "#model.compile(optimizer=custom_optimizer, loss='sparse_categorical_crossentropy', metrics=['accuracy'])\n",
    "\n",
    "model.compile(optimizer='adam', loss='sparse_categorical_crossentropy', metrics=['accuracy'])"
   ]
  },
  {
   "cell_type": "markdown",
   "metadata": {},
   "source": [
    "### Training"
   ]
  },
  {
   "cell_type": "code",
   "execution_count": 6,
   "metadata": {},
   "outputs": [
    {
     "name": "stdout",
     "output_type": "stream",
     "text": [
      "Epoch 1/10\n",
      "360/360 - 4s - loss: 0.4713 - accuracy: 0.8670 - val_loss: 0.2160 - val_accuracy: 0.9387\n",
      "Epoch 2/10\n",
      "360/360 - 4s - loss: 0.2038 - accuracy: 0.9414 - val_loss: 0.1614 - val_accuracy: 0.9532\n",
      "Epoch 3/10\n",
      "360/360 - 4s - loss: 0.1563 - accuracy: 0.9548 - val_loss: 0.1317 - val_accuracy: 0.9618\n",
      "Epoch 4/10\n",
      "360/360 - 5s - loss: 0.1273 - accuracy: 0.9630 - val_loss: 0.1129 - val_accuracy: 0.9675\n",
      "Epoch 5/10\n",
      "360/360 - 8s - loss: 0.1082 - accuracy: 0.9681 - val_loss: 0.0965 - val_accuracy: 0.9722\n",
      "Epoch 6/10\n",
      "360/360 - 8s - loss: 0.0923 - accuracy: 0.9731 - val_loss: 0.0892 - val_accuracy: 0.9742\n",
      "Epoch 7/10\n",
      "360/360 - 7s - loss: 0.0839 - accuracy: 0.9752 - val_loss: 0.0796 - val_accuracy: 0.9765\n",
      "Epoch 8/10\n",
      "360/360 - 8s - loss: 0.0745 - accuracy: 0.9778 - val_loss: 0.0764 - val_accuracy: 0.9790\n",
      "Epoch 9/10\n",
      "360/360 - 8s - loss: 0.0677 - accuracy: 0.9800 - val_loss: 0.0674 - val_accuracy: 0.9792\n",
      "Epoch 10/10\n",
      "360/360 - 8s - loss: 0.0624 - accuracy: 0.9810 - val_loss: 0.0655 - val_accuracy: 0.9810\n"
     ]
    },
    {
     "data": {
      "text/plain": [
       "<tensorflow.python.keras.callbacks.History at 0x1d55216ac88>"
      ]
     },
     "execution_count": 6,
     "metadata": {},
     "output_type": "execute_result"
    }
   ],
   "source": [
    "# determine the maximum number of epochs\n",
    "NUM_EPOCHS = 10\n",
    "VALIDATION_STEPS = num_validation_samples // BATCH_SIZE\n",
    "# we fit the model, specifying the\n",
    "# training data\n",
    "# the total number of epochs\n",
    "# and the validation data we just created ourselves in the format: (inputs,targets)\n",
    "model.fit(train_data, epochs=NUM_EPOCHS, validation_data=(validation_inputs, validation_targets), validation_steps=VALIDATION_STEPS, verbose=2)"
   ]
  },
  {
   "cell_type": "markdown",
   "metadata": {},
   "source": [
    "Validation loss can be used to keep an eye on overfitting\n",
    "#### Validation accuracy shows the true accuracy of the model, since training accuracy shows avg accuracy across batches. While validation accuracy is that of the whole validation set"
   ]
  },
  {
   "cell_type": "markdown",
   "metadata": {},
   "source": [
    "### Testing"
   ]
  },
  {
   "cell_type": "code",
   "execution_count": 10,
   "metadata": {},
   "outputs": [
    {
     "name": "stdout",
     "output_type": "stream",
     "text": [
      "      1/Unknown - 1s 743ms/step - loss: 0.0961 - accuracy: 0.9706"
     ]
    }
   ],
   "source": [
    "#Only test, after adjusting the model. if we adjust after testing we overfit the test dataset\n",
    "test_loss, test_accuracy = model.evaluate(test_data)"
   ]
  },
  {
   "cell_type": "code",
   "execution_count": 12,
   "metadata": {},
   "outputs": [
    {
     "name": "stdout",
     "output_type": "stream",
     "text": [
      "Test loss: 0.10. Test accuracy: 97.06%\n"
     ]
    }
   ],
   "source": [
    "print('Test loss: {0:.2f}. Test accuracy: {1:.2f}%'.format(test_loss, test_accuracy*100.))"
   ]
  }
 ],
 "metadata": {
  "kernelspec": {
   "display_name": "Python 3",
   "language": "python",
   "name": "python3"
  },
  "language_info": {
   "codemirror_mode": {
    "name": "ipython",
    "version": 3
   },
   "file_extension": ".py",
   "mimetype": "text/x-python",
   "name": "python",
   "nbconvert_exporter": "python",
   "pygments_lexer": "ipython3",
   "version": "3.7.6"
  }
 },
 "nbformat": 4,
 "nbformat_minor": 4
}
