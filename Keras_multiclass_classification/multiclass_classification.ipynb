{
 "cells": [
  {
   "cell_type": "markdown",
   "metadata": {},
   "source": [
    "## Train a neural network for multi-class classification\n",
    "\n",
    "Description of Datasets:\n",
    "1. Title: Image Segmentation data\n",
    "2. Relevant Information:\n",
    "   The instances were drawn randomly from a database of 7 outdoor \n",
    "   images.  The images were handsegmented to create a classification\n",
    "   for every pixel.  \n",
    "   Each instance is a 3x3 region.\n",
    "3. Number of Instances:  2300\n",
    "4. Number of Attributes: 19 continuous attributes\n",
    "9. Class Distribution: \n",
    "   Classes: 1 = brickface, 2 = sky, 3 = foliage, 4 = cement, 5 = window, 6 = path, 7 = grass.\n",
    "\n",
    "\n",
    "\n"
   ]
  },
  {
   "cell_type": "markdown",
   "metadata": {},
   "source": [
    "## Homework Assignment 2\n",
    "        Using categorical_crossentropy and regularized and unregularized"
   ]
  },
  {
   "cell_type": "markdown",
   "metadata": {},
   "source": [
    "### Import libraries"
   ]
  },
  {
   "cell_type": "code",
   "execution_count": 40,
   "metadata": {},
   "outputs": [],
   "source": [
    "import numpy as np\n",
    "import pandas as pd \n",
    "import matplotlib.pyplot as plt \n",
    "%matplotlib inline\n",
    "import tensorflow as tf\n",
    "import keras\n",
    "from keras.models import Sequential\n",
    "from keras.layers import Dense,Dropout, Activation\n",
    "from keras import regularizers, initializers\n",
    "from sklearn.preprocessing import MinMaxScaler"
   ]
  },
  {
   "cell_type": "markdown",
   "metadata": {},
   "source": [
    "### Import data"
   ]
  },
  {
   "cell_type": "code",
   "execution_count": 41,
   "metadata": {},
   "outputs": [],
   "source": [
    "df=pd.read_csv('Image_Segmentation.csv')\n",
    "y= df['Y']\n",
    "x= df[['A1', 'A2','A3','A4', 'A5', 'A6','A7', 'A8','A9','A10','A11','A12', 'A13', 'A14','A15', 'A16', 'A17','A18', 'A19' ]]"
   ]
  },
  {
   "cell_type": "code",
   "execution_count": 42,
   "metadata": {
    "scrolled": false
   },
   "outputs": [
    {
     "data": {
      "text/html": [
       "<div>\n",
       "<style scoped>\n",
       "    .dataframe tbody tr th:only-of-type {\n",
       "        vertical-align: middle;\n",
       "    }\n",
       "\n",
       "    .dataframe tbody tr th {\n",
       "        vertical-align: top;\n",
       "    }\n",
       "\n",
       "    .dataframe thead th {\n",
       "        text-align: right;\n",
       "    }\n",
       "</style>\n",
       "<table border=\"1\" class=\"dataframe\">\n",
       "  <thead>\n",
       "    <tr style=\"text-align: right;\">\n",
       "      <th></th>\n",
       "      <th>A0</th>\n",
       "      <th>A1</th>\n",
       "      <th>A2</th>\n",
       "      <th>A3</th>\n",
       "      <th>A4</th>\n",
       "      <th>A5</th>\n",
       "      <th>A6</th>\n",
       "      <th>A7</th>\n",
       "      <th>A8</th>\n",
       "      <th>A9</th>\n",
       "      <th>A10</th>\n",
       "      <th>A11</th>\n",
       "      <th>A12</th>\n",
       "      <th>A13</th>\n",
       "      <th>A14</th>\n",
       "      <th>A15</th>\n",
       "      <th>A16</th>\n",
       "      <th>A17</th>\n",
       "      <th>A18</th>\n",
       "      <th>A19</th>\n",
       "    </tr>\n",
       "  </thead>\n",
       "  <tbody>\n",
       "    <tr>\n",
       "      <th>0</th>\n",
       "      <td>1</td>\n",
       "      <td>0.857708</td>\n",
       "      <td>0.695833</td>\n",
       "      <td>0.0</td>\n",
       "      <td>0.333333</td>\n",
       "      <td>0.0</td>\n",
       "      <td>0.028517</td>\n",
       "      <td>0.000552</td>\n",
       "      <td>0.024845</td>\n",
       "      <td>0.000393</td>\n",
       "      <td>0.415698</td>\n",
       "      <td>0.382496</td>\n",
       "      <td>0.498527</td>\n",
       "      <td>0.359314</td>\n",
       "      <td>0.472015</td>\n",
       "      <td>0.627059</td>\n",
       "      <td>0.148008</td>\n",
       "      <td>0.498527</td>\n",
       "      <td>0.318996</td>\n",
       "      <td>0.168487</td>\n",
       "    </tr>\n",
       "    <tr>\n",
       "      <th>1</th>\n",
       "      <td>1</td>\n",
       "      <td>0.442688</td>\n",
       "      <td>0.495833</td>\n",
       "      <td>0.0</td>\n",
       "      <td>0.000000</td>\n",
       "      <td>0.0</td>\n",
       "      <td>0.009506</td>\n",
       "      <td>0.000253</td>\n",
       "      <td>0.007453</td>\n",
       "      <td>0.000263</td>\n",
       "      <td>0.006197</td>\n",
       "      <td>0.000000</td>\n",
       "      <td>0.016937</td>\n",
       "      <td>0.000779</td>\n",
       "      <td>0.789179</td>\n",
       "      <td>0.184706</td>\n",
       "      <td>0.538899</td>\n",
       "      <td>0.016937</td>\n",
       "      <td>1.000000</td>\n",
       "      <td>0.154604</td>\n",
       "    </tr>\n",
       "    <tr>\n",
       "      <th>2</th>\n",
       "      <td>1</td>\n",
       "      <td>0.794466</td>\n",
       "      <td>0.125000</td>\n",
       "      <td>0.0</td>\n",
       "      <td>0.000000</td>\n",
       "      <td>0.0</td>\n",
       "      <td>0.032320</td>\n",
       "      <td>0.000779</td>\n",
       "      <td>0.024845</td>\n",
       "      <td>0.000740</td>\n",
       "      <td>0.857733</td>\n",
       "      <td>0.816045</td>\n",
       "      <td>0.926362</td>\n",
       "      <td>0.823850</td>\n",
       "      <td>0.272388</td>\n",
       "      <td>0.663529</td>\n",
       "      <td>0.292220</td>\n",
       "      <td>0.926362</td>\n",
       "      <td>0.199347</td>\n",
       "      <td>0.124946</td>\n",
       "    </tr>\n",
       "    <tr>\n",
       "      <th>3</th>\n",
       "      <td>1</td>\n",
       "      <td>0.122530</td>\n",
       "      <td>0.675000</td>\n",
       "      <td>0.0</td>\n",
       "      <td>0.000000</td>\n",
       "      <td>0.0</td>\n",
       "      <td>0.058935</td>\n",
       "      <td>0.001796</td>\n",
       "      <td>0.201242</td>\n",
       "      <td>0.004869</td>\n",
       "      <td>0.303899</td>\n",
       "      <td>0.288493</td>\n",
       "      <td>0.350515</td>\n",
       "      <td>0.268901</td>\n",
       "      <td>0.630597</td>\n",
       "      <td>0.427059</td>\n",
       "      <td>0.309298</td>\n",
       "      <td>0.350515</td>\n",
       "      <td>0.266914</td>\n",
       "      <td>0.175487</td>\n",
       "    </tr>\n",
       "    <tr>\n",
       "      <th>4</th>\n",
       "      <td>1</td>\n",
       "      <td>0.237154</td>\n",
       "      <td>0.775000</td>\n",
       "      <td>0.0</td>\n",
       "      <td>0.000000</td>\n",
       "      <td>0.0</td>\n",
       "      <td>0.049430</td>\n",
       "      <td>0.001528</td>\n",
       "      <td>0.058385</td>\n",
       "      <td>0.001389</td>\n",
       "      <td>0.345727</td>\n",
       "      <td>0.322528</td>\n",
       "      <td>0.407953</td>\n",
       "      <td>0.301637</td>\n",
       "      <td>0.563433</td>\n",
       "      <td>0.511765</td>\n",
       "      <td>0.240987</td>\n",
       "      <td>0.407953</td>\n",
       "      <td>0.302925</td>\n",
       "      <td>0.171556</td>\n",
       "    </tr>\n",
       "  </tbody>\n",
       "</table>\n",
       "</div>"
      ],
      "text/plain": [
       "   A0        A1        A2   A3        A4   A5        A6        A7        A8  \\\n",
       "0   1  0.857708  0.695833  0.0  0.333333  0.0  0.028517  0.000552  0.024845   \n",
       "1   1  0.442688  0.495833  0.0  0.000000  0.0  0.009506  0.000253  0.007453   \n",
       "2   1  0.794466  0.125000  0.0  0.000000  0.0  0.032320  0.000779  0.024845   \n",
       "3   1  0.122530  0.675000  0.0  0.000000  0.0  0.058935  0.001796  0.201242   \n",
       "4   1  0.237154  0.775000  0.0  0.000000  0.0  0.049430  0.001528  0.058385   \n",
       "\n",
       "         A9       A10       A11       A12       A13       A14       A15  \\\n",
       "0  0.000393  0.415698  0.382496  0.498527  0.359314  0.472015  0.627059   \n",
       "1  0.000263  0.006197  0.000000  0.016937  0.000779  0.789179  0.184706   \n",
       "2  0.000740  0.857733  0.816045  0.926362  0.823850  0.272388  0.663529   \n",
       "3  0.004869  0.303899  0.288493  0.350515  0.268901  0.630597  0.427059   \n",
       "4  0.001389  0.345727  0.322528  0.407953  0.301637  0.563433  0.511765   \n",
       "\n",
       "        A16       A17       A18       A19  \n",
       "0  0.148008  0.498527  0.318996  0.168487  \n",
       "1  0.538899  0.016937  1.000000  0.154604  \n",
       "2  0.292220  0.926362  0.199347  0.124946  \n",
       "3  0.309298  0.350515  0.266914  0.175487  \n",
       "4  0.240987  0.407953  0.302925  0.171556  "
      ]
     },
     "execution_count": 42,
     "metadata": {},
     "output_type": "execute_result"
    }
   ],
   "source": [
    "#normalization using minmax scaler\n",
    "#sklearn.preprocessing.MinMaxScaler(feature_range=(min, max), copy=True)\n",
    "scaler = MinMaxScaler()\n",
    "scaler.fit(x)\n",
    "x_norm=pd.DataFrame(scaler.transform(x), columns=['A1', 'A2','A3','A4', 'A5', 'A6','A7', 'A8','A9','A10','A11','A12', 'A13', 'A14','A15', 'A16', 'A17','A18', 'A19' ])\n",
    "# x_norm.columns += 1\n",
    "x_norm.insert(0,\"A0\", 1)#bias\n",
    "x_norm.head()"
   ]
  },
  {
   "cell_type": "code",
   "execution_count": 43,
   "metadata": {},
   "outputs": [
    {
     "data": {
      "text/html": [
       "<div>\n",
       "<style scoped>\n",
       "    .dataframe tbody tr th:only-of-type {\n",
       "        vertical-align: middle;\n",
       "    }\n",
       "\n",
       "    .dataframe tbody tr th {\n",
       "        vertical-align: top;\n",
       "    }\n",
       "\n",
       "    .dataframe thead th {\n",
       "        text-align: right;\n",
       "    }\n",
       "</style>\n",
       "<table border=\"1\" class=\"dataframe\">\n",
       "  <thead>\n",
       "    <tr style=\"text-align: right;\">\n",
       "      <th></th>\n",
       "      <th>A0</th>\n",
       "      <th>A1</th>\n",
       "      <th>A2</th>\n",
       "      <th>A3</th>\n",
       "      <th>A4</th>\n",
       "      <th>A5</th>\n",
       "      <th>A6</th>\n",
       "      <th>A7</th>\n",
       "      <th>A8</th>\n",
       "      <th>A9</th>\n",
       "      <th>...</th>\n",
       "      <th>A17</th>\n",
       "      <th>A18</th>\n",
       "      <th>A19</th>\n",
       "      <th>1</th>\n",
       "      <th>2</th>\n",
       "      <th>3</th>\n",
       "      <th>4</th>\n",
       "      <th>5</th>\n",
       "      <th>6</th>\n",
       "      <th>7</th>\n",
       "    </tr>\n",
       "  </thead>\n",
       "  <tbody>\n",
       "    <tr>\n",
       "      <th>0</th>\n",
       "      <td>1</td>\n",
       "      <td>0.857708</td>\n",
       "      <td>0.695833</td>\n",
       "      <td>0.0</td>\n",
       "      <td>0.333333</td>\n",
       "      <td>0.0</td>\n",
       "      <td>0.028517</td>\n",
       "      <td>0.000552</td>\n",
       "      <td>0.024845</td>\n",
       "      <td>0.000393</td>\n",
       "      <td>...</td>\n",
       "      <td>0.498527</td>\n",
       "      <td>0.318996</td>\n",
       "      <td>0.168487</td>\n",
       "      <td>0</td>\n",
       "      <td>0</td>\n",
       "      <td>0</td>\n",
       "      <td>0</td>\n",
       "      <td>0</td>\n",
       "      <td>1</td>\n",
       "      <td>0</td>\n",
       "    </tr>\n",
       "    <tr>\n",
       "      <th>1</th>\n",
       "      <td>1</td>\n",
       "      <td>0.442688</td>\n",
       "      <td>0.495833</td>\n",
       "      <td>0.0</td>\n",
       "      <td>0.000000</td>\n",
       "      <td>0.0</td>\n",
       "      <td>0.009506</td>\n",
       "      <td>0.000253</td>\n",
       "      <td>0.007453</td>\n",
       "      <td>0.000263</td>\n",
       "      <td>...</td>\n",
       "      <td>0.016937</td>\n",
       "      <td>1.000000</td>\n",
       "      <td>0.154604</td>\n",
       "      <td>0</td>\n",
       "      <td>0</td>\n",
       "      <td>1</td>\n",
       "      <td>0</td>\n",
       "      <td>0</td>\n",
       "      <td>0</td>\n",
       "      <td>0</td>\n",
       "    </tr>\n",
       "    <tr>\n",
       "      <th>2</th>\n",
       "      <td>1</td>\n",
       "      <td>0.794466</td>\n",
       "      <td>0.125000</td>\n",
       "      <td>0.0</td>\n",
       "      <td>0.000000</td>\n",
       "      <td>0.0</td>\n",
       "      <td>0.032320</td>\n",
       "      <td>0.000779</td>\n",
       "      <td>0.024845</td>\n",
       "      <td>0.000740</td>\n",
       "      <td>...</td>\n",
       "      <td>0.926362</td>\n",
       "      <td>0.199347</td>\n",
       "      <td>0.124946</td>\n",
       "      <td>0</td>\n",
       "      <td>1</td>\n",
       "      <td>0</td>\n",
       "      <td>0</td>\n",
       "      <td>0</td>\n",
       "      <td>0</td>\n",
       "      <td>0</td>\n",
       "    </tr>\n",
       "    <tr>\n",
       "      <th>3</th>\n",
       "      <td>1</td>\n",
       "      <td>0.122530</td>\n",
       "      <td>0.675000</td>\n",
       "      <td>0.0</td>\n",
       "      <td>0.000000</td>\n",
       "      <td>0.0</td>\n",
       "      <td>0.058935</td>\n",
       "      <td>0.001796</td>\n",
       "      <td>0.201242</td>\n",
       "      <td>0.004869</td>\n",
       "      <td>...</td>\n",
       "      <td>0.350515</td>\n",
       "      <td>0.266914</td>\n",
       "      <td>0.175487</td>\n",
       "      <td>0</td>\n",
       "      <td>0</td>\n",
       "      <td>0</td>\n",
       "      <td>0</td>\n",
       "      <td>0</td>\n",
       "      <td>1</td>\n",
       "      <td>0</td>\n",
       "    </tr>\n",
       "    <tr>\n",
       "      <th>4</th>\n",
       "      <td>1</td>\n",
       "      <td>0.237154</td>\n",
       "      <td>0.775000</td>\n",
       "      <td>0.0</td>\n",
       "      <td>0.000000</td>\n",
       "      <td>0.0</td>\n",
       "      <td>0.049430</td>\n",
       "      <td>0.001528</td>\n",
       "      <td>0.058385</td>\n",
       "      <td>0.001389</td>\n",
       "      <td>...</td>\n",
       "      <td>0.407953</td>\n",
       "      <td>0.302925</td>\n",
       "      <td>0.171556</td>\n",
       "      <td>0</td>\n",
       "      <td>0</td>\n",
       "      <td>0</td>\n",
       "      <td>0</td>\n",
       "      <td>0</td>\n",
       "      <td>1</td>\n",
       "      <td>0</td>\n",
       "    </tr>\n",
       "  </tbody>\n",
       "</table>\n",
       "<p>5 rows × 27 columns</p>\n",
       "</div>"
      ],
      "text/plain": [
       "   A0        A1        A2   A3        A4   A5        A6        A7        A8  \\\n",
       "0   1  0.857708  0.695833  0.0  0.333333  0.0  0.028517  0.000552  0.024845   \n",
       "1   1  0.442688  0.495833  0.0  0.000000  0.0  0.009506  0.000253  0.007453   \n",
       "2   1  0.794466  0.125000  0.0  0.000000  0.0  0.032320  0.000779  0.024845   \n",
       "3   1  0.122530  0.675000  0.0  0.000000  0.0  0.058935  0.001796  0.201242   \n",
       "4   1  0.237154  0.775000  0.0  0.000000  0.0  0.049430  0.001528  0.058385   \n",
       "\n",
       "         A9  ...       A17       A18       A19  1  2  3  4  5  6  7  \n",
       "0  0.000393  ...  0.498527  0.318996  0.168487  0  0  0  0  0  1  0  \n",
       "1  0.000263  ...  0.016937  1.000000  0.154604  0  0  1  0  0  0  0  \n",
       "2  0.000740  ...  0.926362  0.199347  0.124946  0  1  0  0  0  0  0  \n",
       "3  0.004869  ...  0.350515  0.266914  0.175487  0  0  0  0  0  1  0  \n",
       "4  0.001389  ...  0.407953  0.302925  0.171556  0  0  0  0  0  1  0  \n",
       "\n",
       "[5 rows x 27 columns]"
      ]
     },
     "execution_count": 43,
     "metadata": {},
     "output_type": "execute_result"
    }
   ],
   "source": [
    "# #Convert labels to categorical one-hot encoding\n",
    "# from keras.utils import to_categorical\n",
    "# categorical_labels = to_categorical(y, num_classes=8)\n",
    "# categorical_labels= pd.DataFrame(np.delete(categorical_labels,[0],1))\n",
    "# categorical_labels.columns += 1\n",
    "# categorical_labels\n",
    "# df =pd.concat([x_norm, categorical_labels], axis=1)\n",
    "# print(df.head())\n",
    "\n",
    "#creating dummy variables for output \n",
    "dummy= pd.get_dummies(y)\n",
    "df =pd.concat([x_norm, dummy], axis=1)\n",
    "df.head()"
   ]
  },
  {
   "cell_type": "code",
   "execution_count": 44,
   "metadata": {},
   "outputs": [],
   "source": [
    "#Splitting data into Train and Test\n",
    "trainx_set= x_norm.loc[0:1999]\n",
    "trainy_set = dummy.loc[0:1999]\n",
    "testx_set= x_norm.loc[2000:2299]\n",
    "testy_set = dummy.loc[2000:2299]"
   ]
  },
  {
   "cell_type": "markdown",
   "metadata": {},
   "source": [
    "### Model"
   ]
  },
  {
   "cell_type": "markdown",
   "metadata": {},
   "source": [
    "### Without regularization"
   ]
  },
  {
   "cell_type": "markdown",
   "metadata": {},
   "source": [
    "#### Outlining model for 1 hidden layer with 5 nodes"
   ]
  },
  {
   "cell_type": "code",
   "execution_count": 6,
   "metadata": {},
   "outputs": [
    {
     "name": "stdout",
     "output_type": "stream",
     "text": [
      "300/300 [==============================] - 0s 52us/step\n",
      "300/300 [==============================] - 0s 52us/step\n",
      "300/300 [==============================] - 0s 52us/step\n",
      "300/300 [==============================] - 0s 52us/step\n",
      "300/300 [==============================] - 0s 52us/step\n",
      "300/300 [==============================] - 0s 74us/step\n",
      "300/300 [==============================] - 0s 52us/step\n",
      "300/300 [==============================] - 0s 104us/step\n",
      "300/300 [==============================] - 0s 52us/step\n",
      "300/300 [==============================] - 0s 63us/step\n",
      "Test accuracy:  [0.94, 0.96, 0.95, 0.86, 0.84, 0.89, 0.94, 0.92, 0.92, 0.93]\n",
      "Average Test_accuracy: 91.47%\n"
     ]
    }
   ],
   "source": [
    "i=10\n",
    "acc1=[]\n",
    "while i>0:\n",
    "    input_size = 20\n",
    "    output_size = 7\n",
    "    hidden_layer_size = 5\n",
    "    initial= initializers.glorot_uniform(seed=None)\n",
    "#     regularizer= regularizers.l2(l=0.1)\n",
    "#     Sequential model is a linear stack of layers.\n",
    "    model=Sequential() \n",
    "#     https://keras.io/getting-started/sequential-model-guide/\n",
    "#     laying down the model- stacking the layers\n",
    "#     Dense(output size) is implementing: output = activation(dot(input, weight) + bias)\n",
    "    model.add(Dense(hidden_layer_size, activation='relu', input_shape=(20,), kernel_initializer=initial)) #1st hidden layer with 20 inputs\n",
    "#     the final layer with softmax activation, gives a probability of output\n",
    "    model.add(Dense(output_size, activation='softmax'))\n",
    "\n",
    "#     Optimizer and loss function\n",
    "#     https://keras.io/optimizers/, https://keras.io/losses/\n",
    "    custom_optimizer = tf.keras.optimizers.Adam(learning_rate=0.1)\n",
    "    model.compile(optimizer=custom_optimizer, loss='categorical_crossentropy', metrics=['accuracy'])\n",
    "#     Train the model, iterating on the data in batches of 100 samples\n",
    "    model.fit(trainx_set, trainy_set, epochs=100, batch_size=100, verbose=0 )\n",
    "    test1_loss, test1_accuracy = model.evaluate(testx_set,testy_set, batch_size=None)\n",
    "    acc1.append(test1_accuracy)\n",
    "    i=i-1\n",
    "\n",
    "print('Test accuracy: ', list(np.around(acc1,2)))\n",
    "print('Average Test_accuracy: {0:.2f}%'.format(np.mean(acc1)*100.))\n"
   ]
  },
  {
   "cell_type": "code",
   "execution_count": 7,
   "metadata": {},
   "outputs": [
    {
     "name": "stdout",
     "output_type": "stream",
     "text": [
      "[[0. 0. 1. 0. 0. 0. 0.]\n",
      " [0. 0. 0. 1. 0. 0. 0.]\n",
      " [0. 0. 0. 0. 0. 0. 1.]\n",
      " [0. 1. 0. 0. 0. 0. 0.]\n",
      " [0. 0. 0. 0. 0. 1. 0.]]\n",
      "      1  2  3  4  5  6  7\n",
      "2000  0  0  1  0  0  0  0\n",
      "2001  0  0  0  1  0  0  0\n",
      "2002  0  0  0  0  0  0  1\n",
      "2003  0  1  0  0  0  0  0\n",
      "2004  0  0  0  0  0  1  0\n"
     ]
    }
   ],
   "source": [
    "#after the last hidden layer passes through softmax, it will output confidence interval for each of the 7 classes\n",
    "y_predict =model.predict(testx_set, batch_size=None, verbose=0, steps=None).round(0)\n",
    "print(y_predict[0:5])\n",
    "print(pd.get_dummies(testy_set).head())"
   ]
  },
  {
   "cell_type": "markdown",
   "metadata": {},
   "source": [
    "#### Outlining model for 2 hidden layer with 5 nodes each"
   ]
  },
  {
   "cell_type": "code",
   "execution_count": 8,
   "metadata": {},
   "outputs": [
    {
     "name": "stdout",
     "output_type": "stream",
     "text": [
      "300/300 [==============================] - 0s 52us/step\n",
      "300/300 [==============================] - 0s 74us/step\n",
      "300/300 [==============================] - 0s 52us/step\n",
      "300/300 [==============================] - 0s 104us/step\n",
      "300/300 [==============================] - 0s 52us/step\n",
      "300/300 [==============================] - 0s 104us/step\n",
      "300/300 [==============================] - 0s 52us/step\n",
      "300/300 [==============================] - 0s 52us/step\n",
      "300/300 [==============================] - 0s 74us/step\n",
      "300/300 [==============================] - 0s 104us/step\n",
      "Test accuracy:  [0.9, 0.12, 0.94, 0.13, 0.93, 0.92, 0.9, 0.63, 0.68, 0.92]\n",
      "Average Test_accuracy: 70.77%\n"
     ]
    }
   ],
   "source": [
    "i=10\n",
    "acc2=[]\n",
    "while i>0:\n",
    "    input_size = 20\n",
    "    output_size = 7\n",
    "    hidden_layer_size = 5\n",
    "    initial= initializers.glorot_uniform(seed=None)\n",
    "#     regularizer= regularizers.l2(l=0.1)\n",
    "\n",
    "    model=Sequential() \n",
    "    model.add(Dense(hidden_layer_size, activation='relu', input_shape=(20,), kernel_initializer=initial)) #1st hidden layer   \n",
    "#     model.add(Dropout(0.5))\n",
    "#     model.add(Dense(hidden_layer_size, activation='relu', kernel_regularizer=regularizer)) #2nd hidden layer\n",
    "    model.add(Dense(hidden_layer_size, activation='relu')) # 2nd hidden layer  \n",
    "#     model.add(Dropout(0.5))          \n",
    "    model.add(Dense(output_size, activation='softmax'))\n",
    "    custom_optimizer = tf.keras.optimizers.Adam(learning_rate=0.1)\n",
    "    model.compile(optimizer=custom_optimizer, loss='categorical_crossentropy', metrics=['accuracy'])\n",
    "    model.fit(trainx_set, trainy_set, epochs=100, batch_size=100, verbose=0 ) \n",
    "    test2_loss, test2_accuracy = model.evaluate(testx_set,testy_set,batch_size=None)\n",
    "    acc2.append(test2_accuracy)\n",
    "    i=i-1\n",
    "    \n",
    "print('Test accuracy: ', list(np.around(acc2,2)))\n",
    "print('Average Test_accuracy: {0:.2f}%'.format(np.mean(acc2)*100.))"
   ]
  },
  {
   "cell_type": "markdown",
   "metadata": {},
   "source": [
    "#### Outlining model for 1 hidden layer with 25 nodes"
   ]
  },
  {
   "cell_type": "code",
   "execution_count": 51,
   "metadata": {},
   "outputs": [
    {
     "name": "stdout",
     "output_type": "stream",
     "text": [
      "300/300 [==============================] - 0s 74us/step\n",
      "300/300 [==============================] - 0s 126us/step\n",
      "300/300 [==============================] - 0s 111us/step\n",
      "300/300 [==============================] - 0s 52us/step\n",
      "300/300 [==============================] - 0s 104us/step\n",
      "300/300 [==============================] - 0s 110us/step\n",
      "300/300 [==============================] - 0s 104us/step\n",
      "300/300 [==============================] - 0s 52us/step\n",
      "300/300 [==============================] - 0s 104us/step\n",
      "300/300 [==============================] - 0s 104us/step\n",
      "Test accuracy:  [0.95, 0.95, 0.97, 0.96, 0.93, 0.95, 0.94, 0.95, 0.94, 0.95]\n",
      "Average Test_accuracy: 94.90%\n"
     ]
    }
   ],
   "source": [
    "i=10\n",
    "acc3=[]\n",
    "while i>0:\n",
    "    input_size = 20\n",
    "    output_size = 7\n",
    "    hidden_layer_size = 25\n",
    "    initial= initializers.glorot_uniform(seed=None)\n",
    "#     regularizer= regularizers.l2(l=0.1)\n",
    "\n",
    "    model=Sequential() \n",
    "    model.add(Dense(hidden_layer_size, activation='relu', input_shape=(20,), kernel_initializer=initial)) #1st hidden layer with 20 inputs\n",
    "    model.add(Dense(output_size, activation='softmax'))\n",
    "    custom_optimizer = tf.keras.optimizers.Adam(learning_rate=0.1)\n",
    "    model.compile(optimizer=custom_optimizer, loss='categorical_crossentropy', metrics=['accuracy'])\n",
    "    model.fit(trainx_set, trainy_set, epochs=100, batch_size=100, verbose=0 )\n",
    "    test3_loss, test3_accuracy = model.evaluate(testx_set,testy_set, batch_size=None)\n",
    "    acc3.append(test3_accuracy)\n",
    "    i=i-1\n",
    "\n",
    "print('Test accuracy: ', list(np.around(acc3,2)))\n",
    "print('Average Test_accuracy: {0:.2f}%'.format(np.mean(acc3)*100.))"
   ]
  },
  {
   "cell_type": "markdown",
   "metadata": {},
   "source": [
    "#### Outlining model for 2 hidden layer with 25 nodes each"
   ]
  },
  {
   "cell_type": "code",
   "execution_count": 49,
   "metadata": {},
   "outputs": [
    {
     "name": "stdout",
     "output_type": "stream",
     "text": [
      "300/300 [==============================] - 0s 126us/step\n",
      "300/300 [==============================] - 0s 104us/step\n",
      "300/300 [==============================] - 0s 97us/step\n",
      "300/300 [==============================] - 0s 104us/step\n",
      "300/300 [==============================] - 0s 104us/step\n",
      "300/300 [==============================] - 0s 104us/step\n",
      "300/300 [==============================] - 0s 74us/step\n",
      "300/300 [==============================] - 0s 62us/step\n",
      "300/300 [==============================] - 0s 52us/step\n",
      "300/300 [==============================] - 0s 104us/step\n",
      "Test accuracy:  [0.95, 0.96, 0.95, 0.96, 0.96, 0.92, 0.88, 0.95, 0.95, 0.94]\n",
      "Average Test_accuracy: 94.00%\n"
     ]
    }
   ],
   "source": [
    "i=10\n",
    "acc4=[]\n",
    "while i>0:\n",
    "    input_size = 20\n",
    "    output_size = 7\n",
    "    hidden_layer_size = 25\n",
    "    initial= initializers.glorot_uniform(seed=None)\n",
    "#     regularizer= regularizers.l2(l=0.1)\n",
    "\n",
    "    model=Sequential() \n",
    "    model.add(Dense(hidden_layer_size, activation='relu',input_shape=(20,), kernel_initializer=initial)) #1st hidden layer \n",
    "#     model.add(Dropout(0.5))\n",
    "    model.add(Dense(hidden_layer_size, activation='relu')) #2nd hidden layer\n",
    "#     model.add(Dropout(0.5))          \n",
    "    model.add(Dense(output_size, activation='softmax'))\n",
    "    custom_optimizer = tf.keras.optimizers.Adam(learning_rate=0.1)\n",
    "    model.compile(optimizer=custom_optimizer, loss='categorical_crossentropy', metrics=['accuracy'])\n",
    "    model.fit(trainx_set, trainy_set, epochs=100, batch_size=100, verbose=0 ) \n",
    "    test4_loss, test4_accuracy = model.evaluate(testx_set,testy_set,batch_size=None)\n",
    "    acc4.append(test4_accuracy)\n",
    "    i=i-1\n",
    "print('Test accuracy: ', list(np.around(acc4,2)))\n",
    "print('Average Test_accuracy: {0:.2f}%'.format(np.mean(acc4)*100.))"
   ]
  },
  {
   "cell_type": "markdown",
   "metadata": {},
   "source": [
    "### Plot"
   ]
  },
  {
   "cell_type": "code",
   "execution_count": 52,
   "metadata": {},
   "outputs": [
    {
     "data": {
      "image/png": "[encoded data removed]",
      "text/plain": [
       "<Figure size 432x288 with 1 Axes>"
      ]
     },
     "metadata": {},
     "output_type": "display_data"
    }
   ],
   "source": [
    "plt.style.use('ggplot')\n",
    "\n",
    "neurons = ['[5]', '[5][5]', '[25]', '[25][25]' ]\n",
    "accuracy = [np.mean(acc1)*100, np.mean(acc2)*100, np.mean(acc3)*100, np.mean(acc4)*100]\n",
    "\n",
    "x_pos = [i for i, _ in enumerate(neurons)]\n",
    "# x_pos=np.arange(len(neurons))\n",
    "\n",
    "\n",
    "plt.bar(x_pos, accuracy, color='tab:blue')\n",
    "plt.xlabel(\"Model\")\n",
    "plt.ylabel(\"Accuracy\")\n",
    "plt.title(\"Average Classification Accuracy vs Model\")\n",
    "\n",
    "plt.xticks(x_pos, neurons)\n",
    "# plt.xticks(rotation = 90)\n",
    "plt.show()"
   ]
  },
  {
   "cell_type": "markdown",
   "metadata": {},
   "source": [
    "### With regularization"
   ]
  },
  {
   "cell_type": "markdown",
   "metadata": {},
   "source": [
    "#### Outlining model for 1 hidden layer with 5 nodes"
   ]
  },
  {
   "cell_type": "code",
   "execution_count": 30,
   "metadata": {},
   "outputs": [
    {
     "name": "stdout",
     "output_type": "stream",
     "text": [
      "300/300 [==============================] - 0s 104us/step\n",
      "300/300 [==============================] - 0s 104us/step\n",
      "300/300 [==============================] - 0s 104us/step\n",
      "300/300 [==============================] - 0s 52us/step\n",
      "300/300 [==============================] - 0s 104us/step\n",
      "300/300 [==============================] - 0s 135us/step\n",
      "300/300 [==============================] - 0s 156us/step\n",
      "300/300 [==============================] - 0s 139us/step\n",
      "300/300 [==============================] - 0s 104us/step\n",
      "300/300 [==============================] - 0s 74us/step\n",
      "Test accuracy:  [0.86, 0.92, 0.86, 0.9, 0.83, 0.68, 0.86, 0.79, 0.82, 0.88]\n",
      "Average Test_accuracy: 84.07%\n"
     ]
    }
   ],
   "source": [
    "i=10\n",
    "acc1_reg=[]\n",
    "while i>0:\n",
    "    input_size = 20\n",
    "    output_size = 7\n",
    "    hidden_layer_size = 5\n",
    "    initial= initializers.glorot_uniform(seed=None)\n",
    "    regularizer= regularizers.l2(l=0.1)\n",
    "#     Sequential model is a linear stack of layers.\n",
    "    model=Sequential() \n",
    "#     https://keras.io/getting-started/sequential-model-guide/\n",
    "#     laying down the model- stacking the layers\n",
    "#     Dense(output size) is implementing: output = activation(dot(input, weight) + bias)\n",
    "    model.add(Dense(hidden_layer_size, activation='relu', kernel_regularizer=regularizer, input_shape=(20,), kernel_initializer=initial)) #1st hidden layer with 20 inputs\n",
    "#     the final layer with softmax activation, gives a probability of output\n",
    "    model.add(Dense(output_size, activation='softmax'))\n",
    "\n",
    "#     Optimizer and loss function\n",
    "#     https://keras.io/optimizers/, https://keras.io/losses/\n",
    "    custom_optimizer = tf.keras.optimizers.Adam(learning_rate=0.1)\n",
    "    model.compile(optimizer=custom_optimizer, loss='categorical_crossentropy', metrics=['accuracy'])\n",
    "#     Train the model, iterating on the data in batches of 100 samples\n",
    "    model.fit(trainx_set, trainy_set, epochs=100, batch_size=100, verbose=0 )\n",
    "    test1_loss, test1_accuracy = model.evaluate(testx_set,testy_set, batch_size=None)\n",
    "    acc1_reg.append(test1_accuracy)\n",
    "    i=i-1\n",
    "\n",
    "print('Test accuracy: ', list(np.around(acc1_reg,2)))\n",
    "print('Average Test_accuracy: {0:.2f}%'.format(np.mean(acc1_reg)*100.))\n"
   ]
  },
  {
   "cell_type": "code",
   "execution_count": 31,
   "metadata": {},
   "outputs": [
    {
     "name": "stdout",
     "output_type": "stream",
     "text": [
      "[[0.01 0.   0.26 0.01 0.72 0.   0.  ]\n",
      " [0.01 0.   0.   0.92 0.02 0.05 0.  ]\n",
      " [0.   0.   0.   0.   0.   0.   1.  ]\n",
      " [0.   1.   0.   0.   0.   0.   0.  ]\n",
      " [0.   0.   0.   0.02 0.   0.97 0.  ]]\n",
      "      1  2  3  4  5  6  7\n",
      "2000  0  0  1  0  0  0  0\n",
      "2001  0  0  0  1  0  0  0\n",
      "2002  0  0  0  0  0  0  1\n",
      "2003  0  1  0  0  0  0  0\n",
      "2004  0  0  0  0  0  1  0\n"
     ]
    }
   ],
   "source": [
    "#after the last hidden layer passes through softmax, it will output confidence interval for each of the 7 classes\n",
    "y_predict =model.predict(testx_set, batch_size=None, verbose=0, steps=None).round(2)\n",
    "print(y_predict[0:5])\n",
    "print(pd.get_dummies(testy_set).head())"
   ]
  },
  {
   "cell_type": "markdown",
   "metadata": {},
   "source": [
    "#### Outlining model for 2 hidden layer with 5 nodes each"
   ]
  },
  {
   "cell_type": "code",
   "execution_count": 45,
   "metadata": {},
   "outputs": [
    {
     "name": "stdout",
     "output_type": "stream",
     "text": [
      "300/300 [==============================] - 0s 104us/step\n",
      "300/300 [==============================] - 0s 156us/step\n",
      "300/300 [==============================] - 0s 104us/step\n",
      "300/300 [==============================] - 0s 104us/step\n",
      "300/300 [==============================] - 0s 126us/step\n",
      "300/300 [==============================] - 0s 104us/step\n",
      "300/300 [==============================] - 0s 104us/step\n",
      "300/300 [==============================] - 0s 163us/step\n",
      "300/300 [==============================] - 0s 104us/step\n",
      "300/300 [==============================] - 0s 115us/step\n",
      "Test accuracy:  [0.47, 0.5, 0.15, 0.17, 0.48, 0.56, 0.51, 0.46, 0.12, 0.12]\n",
      "Average Test_accuracy: 35.50%\n"
     ]
    }
   ],
   "source": [
    "i=10\n",
    "acc2_reg=[]\n",
    "while i>0:\n",
    "    input_size = 20\n",
    "    output_size = 7\n",
    "    hidden_layer_size = 5\n",
    "    initial= initializers.glorot_uniform(seed=None)\n",
    "    regularizer= regularizers.l2(l=0.1)\n",
    "\n",
    "    model=Sequential() \n",
    "    model.add(Dense(hidden_layer_size, activation='relu', input_shape=(20,), kernel_regularizer=regularizer, kernel_initializer=initial)) #1st hidden layer   \n",
    "#     model.add(Dropout(0.5))\n",
    "    model.add(Dense(hidden_layer_size, activation='relu', kernel_regularizer=regularizer)) #2nd hidden layer\n",
    "#     model.add(Dense(hidden_layer_size, activation='relu')) # 2nd hidden layer  \n",
    "#     model.add(Dropout(0.5))          \n",
    "    model.add(Dense(output_size, activity_regularizer=regularizer, activation='softmax'))\n",
    "    custom_optimizer = tf.keras.optimizers.Adam(learning_rate=0.1)\n",
    "    model.compile(optimizer=custom_optimizer, loss='categorical_crossentropy', metrics=['accuracy'])\n",
    "    model.fit(trainx_set, trainy_set, epochs=100, batch_size=100, verbose=0 ) \n",
    "    test2_loss, test2_accuracy = model.evaluate(testx_set,testy_set,batch_size=None)\n",
    "    acc2_reg.append(test2_accuracy)\n",
    "    i=i-1\n",
    "    \n",
    "print('Test accuracy: ', list(np.around(acc2_reg,2)))\n",
    "print('Average Test_accuracy: {0:.2f}%'.format(np.mean(acc2_reg)*100.))"
   ]
  },
  {
   "cell_type": "markdown",
   "metadata": {},
   "source": [
    "#### Outlining model for 1 hidden layer with 25 nodes"
   ]
  },
  {
   "cell_type": "code",
   "execution_count": 38,
   "metadata": {},
   "outputs": [
    {
     "name": "stdout",
     "output_type": "stream",
     "text": [
      "300/300 [==============================] - 0s 142us/step\n",
      "300/300 [==============================] - 0s 104us/step\n",
      "300/300 [==============================] - 0s 104us/step\n",
      "300/300 [==============================] - 0s 104us/step\n",
      "300/300 [==============================] - 0s 126us/step\n",
      "300/300 [==============================] - 0s 104us/step\n",
      "300/300 [==============================] - 0s 104us/step\n",
      "300/300 [==============================] - 0s 156us/step\n",
      "300/300 [==============================] - 0s 104us/step\n",
      "300/300 [==============================] - 0s 104us/step\n",
      "Test accuracy:  [0.71, 0.67, 0.67, 0.66, 0.73, 0.72, 0.8, 0.73, 0.72, 0.73]\n",
      "Average Test_accuracy: 71.40%\n"
     ]
    }
   ],
   "source": [
    "i=10\n",
    "acc3_reg=[]\n",
    "while i>0:\n",
    "    input_size = 20\n",
    "    output_size = 7\n",
    "    hidden_layer_size = 25\n",
    "    initial= initializers.glorot_uniform(seed=None)\n",
    "    regularizer= regularizers.l2(l=0.1)\n",
    "\n",
    "    model=Sequential() \n",
    "    model.add(Dense(hidden_layer_size, activation='relu', kernel_regularizer=regularizer, input_shape=(20,), kernel_initializer=initial)) #1st hidden layer with 20 inputs\n",
    "    model.add(Dense(output_size,activity_regularizer=regularizer,  activation='softmax'))\n",
    "    custom_optimizer = tf.keras.optimizers.Adam(learning_rate=0.1)\n",
    "    model.compile(optimizer=custom_optimizer, loss='categorical_crossentropy', metrics=['accuracy'])\n",
    "    model.fit(trainx_set, trainy_set, epochs=100, batch_size=100, verbose=0 )\n",
    "    test3_loss, test3_accuracy = model.evaluate(testx_set,testy_set, batch_size=None)\n",
    "    acc3_reg.append(test3_accuracy)\n",
    "    i=i-1\n",
    "\n",
    "print('Test accuracy: ', list(np.around(acc3_reg,2)))\n",
    "print('Average Test_accuracy: {0:.2f}%'.format(np.mean(acc3_reg)*100.))"
   ]
  },
  {
   "cell_type": "markdown",
   "metadata": {},
   "source": [
    "#### Outlining model for 2 hidden layer with 25 nodes each"
   ]
  },
  {
   "cell_type": "code",
   "execution_count": 48,
   "metadata": {},
   "outputs": [
    {
     "name": "stdout",
     "output_type": "stream",
     "text": [
      "300/300 [==============================] - 0s 52us/step\n",
      "300/300 [==============================] - 0s 160us/step\n",
      "300/300 [==============================] - 0s 115us/step\n",
      "300/300 [==============================] - 0s 104us/step\n",
      "300/300 [==============================] - 0s 104us/step\n",
      "300/300 [==============================] - 0s 155us/step\n",
      "300/300 [==============================] - 0s 104us/step\n",
      "300/300 [==============================] - 0s 104us/step\n",
      "300/300 [==============================] - 0s 156us/step\n",
      "300/300 [==============================] - 0s 104us/step\n",
      "Test accuracy:  [0.48, 0.47, 0.54, 0.48, 0.48, 0.33, 0.52, 0.4, 0.37, 0.42]\n",
      "Average Test_accuracy: 44.93%\n"
     ]
    }
   ],
   "source": [
    "i=10\n",
    "acc4_reg=[]\n",
    "while i>0:\n",
    "    input_size = 20\n",
    "    output_size = 7\n",
    "    hidden_layer_size = 25\n",
    "    initial= initializers.glorot_uniform(seed=None)\n",
    "    regularizer= regularizers.l2(l=0.1)\n",
    "\n",
    "    model=Sequential() \n",
    "    model.add(Dense(hidden_layer_size, activation='relu',kernel_regularizer=regularizer, input_shape=(20,), kernel_initializer=initial)) #1st hidden layer \n",
    "#     model.add(Dropout(0.5))\n",
    "    model.add(Dense(hidden_layer_size, activation='relu', kernel_regularizer=regularizer)) #2nd hidden layer\n",
    "#     model.add(Dropout(0.5))          \n",
    "    model.add(Dense(output_size, activity_regularizer=regularizer, activation='softmax'))\n",
    "    custom_optimizer = tf.keras.optimizers.Adam(learning_rate=0.1)\n",
    "    model.compile(optimizer=custom_optimizer, loss='categorical_crossentropy', metrics=['accuracy'])\n",
    "    model.fit(trainx_set, trainy_set, epochs=100, batch_size=100, verbose=0 ) \n",
    "    test4_loss, test4_accuracy = model.evaluate(testx_set,testy_set,batch_size=None)\n",
    "    acc4_reg.append(test4_accuracy)\n",
    "    i=i-1\n",
    "print('Test accuracy: ', list(np.around(acc4_reg,2)))\n",
    "print('Average Test_accuracy: {0:.2f}%'.format(np.mean(acc4_reg)*100.))"
   ]
  },
  {
   "cell_type": "markdown",
   "metadata": {},
   "source": [
    "### Plot"
   ]
  },
  {
   "cell_type": "code",
   "execution_count": 53,
   "metadata": {},
   "outputs": [
    {
     "data": {
      "image/png": "[encoded data removed]",
      "text/plain": [
       "<Figure size 432x288 with 1 Axes>"
      ]
     },
     "metadata": {},
     "output_type": "display_data"
    }
   ],
   "source": [
    "plt.style.use('ggplot')\n",
    "\n",
    "neurons = ['[5]', '[5][5]', '[25]', '[25][25]' ]\n",
    "accuracy_reg = [np.mean(acc1_reg)*100, np.mean(acc2_reg)*100, np.mean(acc3_reg)*100, np.mean(acc4_reg)*100]\n",
    "\n",
    "x_pos = [i for i, _ in enumerate(neurons)]\n",
    "# x_pos=np.arange(len(neurons))\n",
    "\n",
    "\n",
    "plt.bar(x_pos, accuracy_reg, color='chocolate')\n",
    "plt.xlabel(\"Model\")\n",
    "plt.ylabel(\"Accuracy\")\n",
    "plt.title(\"Average Classification Accuracy vs Model\")\n",
    "\n",
    "plt.xticks(x_pos, neurons)\n",
    "# plt.xticks(rotation = 90)\n",
    "plt.show()"
   ]
  },
  {
   "cell_type": "markdown",
   "metadata": {},
   "source": [
    "### Grouped Plot "
   ]
  },
  {
   "cell_type": "code",
   "execution_count": 54,
   "metadata": {},
   "outputs": [
    {
     "data": {
      "image/png": "[encoded data removed]",
      "text/plain": [
       "<Figure size 432x288 with 1 Axes>"
      ]
     },
     "metadata": {},
     "output_type": "display_data"
    }
   ],
   "source": [
    "plt.style.use('ggplot')\n",
    "labels = ['[5]', '[5][5]', '[25]', '[25][25]' ]\n",
    "accuracy = [np.mean(acc1)*100, np.mean(acc2)*100, np.mean(acc3)*100, np.mean(acc4)*100]\n",
    "accuracy_reg = [np.mean(acc1_reg)*100, np.mean(acc2_reg)*100, np.mean(acc3_reg)*100, np.mean(acc4_reg)*100]\n",
    "\n",
    "x_pos = np.arange(len(accuracy))\n",
    "plt.bar(x_pos + 0.00, accuracy, color = 'tab:blue', width = 0.25, label='Unregularized')\n",
    "plt.bar(x_pos + 0.25, accuracy_reg, color = 'darkorange', width = 0.25, label='Regularized')\n",
    "plt.xticks(x_pos, labels)\n",
    "plt.xlabel(\"Model\")\n",
    "plt.ylabel(\"Accuracy\")\n",
    "plt.title(\"Average Classification Accuracy vs Model\")\n",
    "plt.legend()\n",
    "plt.show()"
   ]
  },
  {
   "cell_type": "markdown",
   "metadata": {},
   "source": [
    "    Obeservation: The model before having a regularization applied was giving a high test accuracy, i.e the model was not overfitting. Thus here  applying the regularization resulted in the accuracy being lower than original. Applying a lower regularization strength resulted in an increase in accuracy and increasing the strength resulted in lower accuracy"
   ]
  }
 ],
 "metadata": {
  "kernelspec": {
   "display_name": "Python 3",
   "language": "python",
   "name": "python3"
  },
  "language_info": {
   "codemirror_mode": {
    "name": "ipython",
    "version": 3
   },
   "file_extension": ".py",
   "mimetype": "text/x-python",
   "name": "python",
   "nbconvert_exporter": "python",
   "pygments_lexer": "ipython3",
   "version": "3.7.6"
  }
 },
 "nbformat": 4,
 "nbformat_minor": 4
}
